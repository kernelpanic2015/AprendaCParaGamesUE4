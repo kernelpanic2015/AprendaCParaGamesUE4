{
  "cells": [
    {
      "cell_type": "markdown",
      "metadata": {
        "id": "view-in-github",
        "colab_type": "text"
      },
      "source": [
        "<a href=\"https://colab.research.google.com/github/kernelpanic2015/AprendaCParaGamesUE4/blob/master/Aprendizado_Supervisionado_Lista_de_Exerc%C3%ADcios_.ipynb\" target=\"_parent\"><img src=\"https://colab.research.google.com/assets/colab-badge.svg\" alt=\"Open In Colab\"/></a>"
      ]
    },
    {
      "cell_type": "markdown",
      "metadata": {
        "id": "rioxSNq4tx90"
      },
      "source": [
        "**Exercícios de Aprendizado Supervisionado**"
      ]
    },
    {
      "cell_type": "code",
      "execution_count": null,
      "metadata": {
        "id": "z_pCNJS5t0lV"
      },
      "outputs": [],
      "source": [
        "#Importando bibliotecas necessárias\n",
        "\n",
        "import pandas as pd\n",
        "import matplotlib.pyplot as plt\n",
        "\n",
        "from sklearn.model_selection import train_test_split\n",
        "from sklearn.preprocessing import LabelEncoder\n",
        "\n",
        "from sklearn.neighbors import KNeighborsClassifier\n",
        "from sklearn.tree import DecisionTreeClassifier, plot_tree\n",
        "\n",
        "from sklearn.metrics import accuracy_score, confusion_matrix, ConfusionMatrixDisplay\n"
      ]
    },
    {
      "cell_type": "markdown",
      "metadata": {
        "id": "X5mGZ5cQvFgE"
      },
      "source": [
        "**Download Dataset** - [Crop recommendation data](https://dataverse.harvard.edu/dataset.xhtml?persistentId=doi:10.7910/DVN/4GBWFV)"
      ]
    },
    {
      "cell_type": "markdown",
      "source": [
        "O dataset **Crop Recommendation Data** contém um total de 1697 amostras, referente as características de solo e condições ambientais para o crescimento de diversas culturas.\n",
        "\n",
        "Os dados estão estruturados nas seguintes colunas:\n",
        "N (Nitrogênio): Quantidade de nitrogênio no solo.\n",
        "\n",
        "*   P (Fósforo): Quantidade de fósforo no solo\n",
        "*   K (Potássio): Quantidade de potássio no solo\n",
        "*   temperature (Temperatura): Temperatura ambiente em graus Celsius\n",
        "*   humidity (Umidade): Umidade relativa do ar em porcentagem\n",
        "ph: Valor de pH do solo\n",
        "*   rainfall (Precipitação): Quantidade de precipitação em mm\n",
        "*   label: A cultura recomendada para plantio, com base nas condições descritas\n"
      ],
      "metadata": {
        "id": "62FH6kp73Iq7"
      }
    },
    {
      "cell_type": "markdown",
      "source": [
        "**Importante:** em *label*, temos os rótulos (classes) que representam diferentes culturas agrícolas: Rice (Arroz), Maize (Milho), Soyabeans (Soja), Beans (Feijão), Peas (Ervilhas), Groundnuts (Amendoins), Cowpeas (Feijão-caupi), Banana, Mango (Manga), Grapes (Uvas), Watermelon (Melancia), Apple (Maçã), Orange (Laranja), Cotton (Algodão) e Coffee (Café)"
      ],
      "metadata": {
        "id": "1OrMHj953j9O"
      }
    },
    {
      "cell_type": "markdown",
      "metadata": {
        "id": "KU3NaXf7vaav"
      },
      "source": [
        "**Exercício 1 – Leitura Dataset**"
      ]
    },
    {
      "cell_type": "markdown",
      "source": [
        "Realize a leitura dos dados e exiba as informações gerais do dataset\n",
        "\n",
        "Exiba quantas amostras existem por classe (label)\n"
      ],
      "metadata": {
        "id": "zFjFqNNI2sxF"
      }
    },
    {
      "cell_type": "code",
      "source": [
        "#Digite seu código aqui"
      ],
      "metadata": {
        "id": "kpuZk7Wg5jHJ"
      },
      "execution_count": null,
      "outputs": []
    },
    {
      "cell_type": "markdown",
      "source": [
        "**Exercício 2 – Preparação dos Dados, divisão treinamento e testes**"
      ],
      "metadata": {
        "id": "oA0HQOi51aJ8"
      }
    },
    {
      "cell_type": "markdown",
      "source": [
        "Realize a divisão dos dados em treinamento e testes"
      ],
      "metadata": {
        "id": "mI8tI1xG22Q-"
      }
    },
    {
      "cell_type": "code",
      "execution_count": null,
      "metadata": {
        "id": "stWixyDRtxjX"
      },
      "outputs": [],
      "source": [
        "#Digite seu código aqui\n"
      ]
    },
    {
      "cell_type": "markdown",
      "metadata": {
        "id": "GRlv9hCPvlkV"
      },
      "source": [
        "**Exercício 3 – Treinamento do Modelo (pode ser o K-NN ou Decision Tree)**"
      ]
    },
    {
      "cell_type": "markdown",
      "source": [
        "Escolha um algoritmo da biblioteca Scikit-learn que seja adequado para treinar um modelo de recomendação de plantio a partir das variaveis presentes no conjunto de dados."
      ],
      "metadata": {
        "id": "-wzcJQY828n4"
      }
    },
    {
      "cell_type": "code",
      "execution_count": null,
      "metadata": {
        "id": "ZLFe-MEmugmm"
      },
      "outputs": [],
      "source": [
        "#Digite seu código aqui"
      ]
    },
    {
      "cell_type": "markdown",
      "metadata": {
        "id": "4RfyoCzHwHr7"
      },
      "source": [
        "**Exercício 4 – Avaliar o Modelo**"
      ]
    },
    {
      "cell_type": "markdown",
      "source": [
        "Utilize a métrica adequada para avaliar o modelo a partir dos dados de treinamento"
      ],
      "metadata": {
        "id": "81J_MmhR3BSn"
      }
    },
    {
      "cell_type": "code",
      "execution_count": null,
      "metadata": {
        "id": "FzT00bctwSQw"
      },
      "outputs": [],
      "source": [
        "#Digite seu código aqui"
      ]
    }
  ],
  "metadata": {
    "colab": {
      "provenance": [],
      "include_colab_link": true
    },
    "kernelspec": {
      "display_name": "Python 3",
      "name": "python3"
    },
    "language_info": {
      "name": "python"
    }
  },
  "nbformat": 4,
  "nbformat_minor": 0
}